{
 "cells": [
  {
   "cell_type": "code",
   "execution_count": 2,
   "id": "67646007-def0-46c4-bf40-2fddb44a3ca3",
   "metadata": {},
   "outputs": [
    {
     "name": "stdout",
     "output_type": "stream",
     "text": [
      "Shivam\n",
      "Chahar\n"
     ]
    }
   ],
   "source": [
    "Name='Shivam'\n",
    "last='Chahar'\n",
    "print(Name)\n",
    "print(last)"
   ]
  },
  {
   "cell_type": "code",
   "execution_count": 3,
   "id": "eb63a619-8f45-4393-9212-2de8ca88d34d",
   "metadata": {},
   "outputs": [
    {
     "data": {
      "text/plain": [
       "112"
      ]
     },
     "execution_count": 3,
     "metadata": {},
     "output_type": "execute_result"
    }
   ],
   "source": [
    "x=34\n",
    "y=78\n",
    "x+y"
   ]
  },
  {
   "cell_type": "code",
   "execution_count": 4,
   "id": "e73205c8-f3b3-4bee-ab45-765cb3600ff8",
   "metadata": {},
   "outputs": [
    {
     "name": "stdout",
     "output_type": "stream",
     "text": [
      "age is 25\n"
     ]
    }
   ],
   "source": [
    "age=25\n",
    "if age>=30:\n",
    "    print(age)\n",
    "print(\"age is\",age)    "
   ]
  },
  {
   "cell_type": "code",
   "execution_count": 5,
   "id": "a4bd6d16-a981-4586-88c6-fad705a2d224",
   "metadata": {},
   "outputs": [
    {
     "name": "stdout",
     "output_type": "stream",
     "text": [
      "My age is 25 years\n"
     ]
    }
   ],
   "source": [
    "print(f\"My age is {age} years\")"
   ]
  },
  {
   "cell_type": "code",
   "execution_count": 6,
   "id": "2b49cf3e-7640-4a6e-8432-9d67efcb1163",
   "metadata": {},
   "outputs": [
    {
     "name": "stdout",
     "output_type": "stream",
     "text": [
      "46\n"
     ]
    }
   ],
   "source": [
    "total = 1 + 2 + 2 + 4 + 8 + 7 + 7 + \\\n",
    "4+5+6\n",
    "print(total)"
   ]
  },
  {
   "cell_type": "code",
   "execution_count": 7,
   "id": "ef1bf3d1-569b-48dd-a68f-1d638e0bc973",
   "metadata": {},
   "outputs": [
    {
     "data": {
      "text/plain": [
       "21"
      ]
     },
     "execution_count": 7,
     "metadata": {},
     "output_type": "execute_result"
    }
   ],
   "source": [
    "x=9;y=12;z=x+y\n",
    "z"
   ]
  },
  {
   "cell_type": "code",
   "execution_count": 8,
   "id": "869e6dc2-0f60-49c3-86fc-84ee2592e8d2",
   "metadata": {},
   "outputs": [
    {
     "name": "stdout",
     "output_type": "stream",
     "text": [
      "<class 'float'>\n",
      "<class 'str'>\n"
     ]
    }
   ],
   "source": [
    "age = 22.4 \n",
    "name = \"Shivam\" \n",
    "print(type(age))\n",
    "print(type(name))"
   ]
  },
  {
   "cell_type": "code",
   "execution_count": 27,
   "id": "a9b8759d-e4b7-429f-b4a3-6b645d242ccd",
   "metadata": {},
   "outputs": [],
   "source": [
    "#2nd sheet defining variables"
   ]
  },
  {
   "cell_type": "code",
   "execution_count": 9,
   "id": "591c743f-84d9-48b5-aee6-d9e96a913acb",
   "metadata": {},
   "outputs": [
    {
     "name": "stdout",
     "output_type": "stream",
     "text": [
      "age : 22\n",
      "Height: 5.7 <class 'float'>\n",
      "Name: Shivam <class 'str'>\n",
      "<class 'bool'>\n"
     ]
    }
   ],
   "source": [
    "age = 22; height = 5.7; name = \"Shivam\";stu=True\n",
    "print(\"age :\", age)\n",
    "print(\"Height:\", height,type(height))\n",
    "print(\"Name:\", name,type(name))\n",
    "print(type(stu))"
   ]
  },
  {
   "cell_type": "code",
   "execution_count": 10,
   "id": "c9e5ee4e-0a3a-4cd7-a1b5-dafe82799423",
   "metadata": {},
   "outputs": [
    {
     "name": "stdout",
     "output_type": "stream",
     "text": [
      "<class 'int'>\n",
      "<class 'str'>\n"
     ]
    }
   ],
   "source": [
    "age = 20\n",
    "print(type(age))\n",
    "\n",
    "age_str = str(age)\n",
    "print(type(age_str))"
   ]
  },
  {
   "cell_type": "code",
   "execution_count": 11,
   "id": "b2543383",
   "metadata": {},
   "outputs": [
    {
     "name": "stdout",
     "output_type": "stream",
     "text": [
      "Your name is  shivam\n"
     ]
    }
   ],
   "source": [
    "Name=str(input(\"What is your name?\"))\n",
    "print(\"Your name is \",Name)"
   ]
  },
  {
   "cell_type": "code",
   "execution_count": 12,
   "id": "fee8dd65-1366-4041-a023-367d6da7bffc",
   "metadata": {},
   "outputs": [
    {
     "name": "stdout",
     "output_type": "stream",
     "text": [
      "21\n"
     ]
    }
   ],
   "source": [
    "age=int(input(\"Enter Your Age\"))\n",
    "print(age)"
   ]
  },
  {
   "cell_type": "code",
   "execution_count": 13,
   "id": "1b4f645b-7a32-4044-a0a1-ec0c196b02ba",
   "metadata": {},
   "outputs": [
    {
     "name": "stdout",
     "output_type": "stream",
     "text": [
      "Sum: 30.0\n",
      "Difference: -10.0\n",
      "Product: 200.0\n",
      "Quotient: 0.5\n"
     ]
    }
   ],
   "source": [
    "num1 = float(input(\"Enter first number: \"))\n",
    "num2 = float(input(\"Enter second number: \"))\n",
    "sum = num1 + num2\n",
    "difference = num1 - num2\n",
    "product = num1 * num2\n",
    "quotient = num1 / num2\n",
    "print(\"Sum:\", sum)\n",
    "print(\"Difference:\", difference)\n",
    "print(\"Product:\", product)\n",
    "print(\"Quotient:\", quotient)"
   ]
  },
  {
   "cell_type": "code",
   "execution_count": 14,
   "id": "eb4d3961-2cc0-45ca-a9b9-d40fed2ec33d",
   "metadata": {},
   "outputs": [
    {
     "name": "stdout",
     "output_type": "stream",
     "text": [
      "<class 'int'>\n",
      "5.7\n",
      "<class 'float'>\n"
     ]
    }
   ],
   "source": [
    "age = 22\n",
    "print(type(age))\n",
    "height = 5.7\n",
    "print(height)\n",
    "print(type(height))"
   ]
  },
  {
   "cell_type": "code",
   "execution_count": 15,
   "id": "2e1ad32c-c9b2-4391-a845-dde28da45671",
   "metadata": {},
   "outputs": [
    {
     "name": "stdout",
     "output_type": "stream",
     "text": [
      "Shivam\n",
      "<class 'str'>\n"
     ]
    }
   ],
   "source": [
    "name=\"Shivam\"\n",
    "print(name)\n",
    "print(type(name))"
   ]
  },
  {
   "cell_type": "code",
   "execution_count": 16,
   "id": "ec0b5631-11b4-475c-8616-aca45bbf6cc3",
   "metadata": {},
   "outputs": [
    {
     "name": "stdout",
     "output_type": "stream",
     "text": [
      "<class 'bool'>\n"
     ]
    }
   ],
   "source": [
    "t=True\n",
    "print(type(t))"
   ]
  },
  {
   "cell_type": "code",
   "execution_count": 17,
   "id": "1da2c70a-066a-4fa8-8255-912afc3f2d9f",
   "metadata": {},
   "outputs": [
    {
     "data": {
      "text/plain": [
       "bool"
      ]
     },
     "execution_count": 17,
     "metadata": {},
     "output_type": "execute_result"
    }
   ],
   "source": [
    "a=15\n",
    "b=10\n",
    "type(a==b)"
   ]
  },
  {
   "cell_type": "code",
   "execution_count": 18,
   "id": "d9b89c3f-f49f-4159-881a-5acfbebd9876",
   "metadata": {},
   "outputs": [
    {
     "name": "stdout",
     "output_type": "stream",
     "text": [
      "hellohellohellohellohellohellohellohello <class 'str'>\n"
     ]
    }
   ],
   "source": [
    "a=\"hello\"*8\n",
    "print(a,type(a))"
   ]
  },
  {
   "cell_type": "code",
   "execution_count": 19,
   "id": "6e6516b9-8806-4e02-ba69-a380d8875382",
   "metadata": {},
   "outputs": [
    {
     "name": "stdout",
     "output_type": "stream",
     "text": [
      "hello11\n"
     ]
    }
   ],
   "source": [
    "b=\"hello\"+str(11)\n",
    "print(b)"
   ]
  },
  {
   "cell_type": "code",
   "execution_count": 20,
   "id": "7df537f2-9e0f-4d5e-aa29-957182485f22",
   "metadata": {},
   "outputs": [
    {
     "name": "stdout",
     "output_type": "stream",
     "text": [
      "25\n",
      "5\n",
      "150\n",
      "1.5\n",
      "1\n",
      "5\n",
      "576650390625\n"
     ]
    }
   ],
   "source": [
    "a = 15\n",
    "b = 10\n",
    "add= a+b \n",
    "sub= a-b  \n",
    "mult= a*b \n",
    "div= a/b \n",
    "floor= a//b \n",
    "modulus= a%b \n",
    "exponent= a**b \n",
    "print(add)\n",
    "print(sub)\n",
    "print(mult)\n",
    "print(div)\n",
    "print(floor)\n",
    "print(modulus)\n",
    "print(exponent)"
   ]
  },
  {
   "cell_type": "code",
   "execution_count": 21,
   "id": "0084e218-73f6-471e-8f70-86197c2fc66c",
   "metadata": {},
   "outputs": [
    {
     "name": "stdout",
     "output_type": "stream",
     "text": [
      "20\n",
      "10\n",
      "3.0\n"
     ]
    }
   ],
   "source": [
    "a = 15\n",
    "b = 5\n",
    "print(a+b)\n",
    "print(a-b)\n",
    "print(a/b)\n",
    " "
   ]
  },
  {
   "cell_type": "code",
   "execution_count": 22,
   "id": "5ed1a61d-5882-4bf4-a872-de45551c3147",
   "metadata": {},
   "outputs": [
    {
     "data": {
      "text/plain": [
       "14134776518227074636666380005943348126619871175004951664972849610340958208"
      ]
     },
     "execution_count": 22,
     "metadata": {},
     "output_type": "execute_result"
    }
   ],
   "source": [
    "2**(3**5)"
   ]
  },
  {
   "cell_type": "code",
   "execution_count": 23,
   "id": "5375183b-ffe4-426e-add5-e6d8a3f67968",
   "metadata": {},
   "outputs": [
    {
     "data": {
      "text/plain": [
       "False"
      ]
     },
     "execution_count": 23,
     "metadata": {},
     "output_type": "execute_result"
    }
   ],
   "source": [
    "a = 12\n",
    "b = 10.1\n",
    "a == b"
   ]
  },
  {
   "cell_type": "code",
   "execution_count": 24,
   "id": "d359884b-30ce-4707-8267-fdb93555cba4",
   "metadata": {},
   "outputs": [
    {
     "name": "stdout",
     "output_type": "stream",
     "text": [
      "True\n",
      "False\n"
     ]
    }
   ],
   "source": [
    " str1 = \"Shivam\"\n",
    " str2 = \"Shivam\"\n",
    " print(str1 == str2)\n",
    " print(str1!=str2)"
   ]
  },
  {
   "cell_type": "code",
   "execution_count": 25,
   "id": "9c751189-5ec9-42c0-ac06-172f5e06ffaa",
   "metadata": {},
   "outputs": [
    {
     "name": "stdout",
     "output_type": "stream",
     "text": [
      "True\n"
     ]
    }
   ],
   "source": [
    "x=True\n",
    "y=True\n",
    "r=x and y\n",
    "print(r)"
   ]
  },
  {
   "cell_type": "code",
   "execution_count": 26,
   "id": "1e3a4a16-5720-43ce-843a-b41760b5228a",
   "metadata": {},
   "outputs": [
    {
     "name": "stdout",
     "output_type": "stream",
     "text": [
      "False\n"
     ]
    }
   ],
   "source": [
    "x=False\n",
    "y=True\n",
    "r=x and y\n",
    "print(r)"
   ]
  },
  {
   "cell_type": "code",
   "execution_count": 27,
   "id": "403fc173-967c-4a89-9187-a50a717ad8ad",
   "metadata": {},
   "outputs": [
    {
     "name": "stdout",
     "output_type": "stream",
     "text": [
      "False\n"
     ]
    }
   ],
   "source": [
    "x=False\n",
    "y=False\n",
    "print(x and y)"
   ]
  },
  {
   "cell_type": "code",
   "execution_count": 28,
   "id": "798f2eb4-8964-48f3-a86b-0663105014d6",
   "metadata": {},
   "outputs": [
    {
     "name": "stdout",
     "output_type": "stream",
     "text": [
      "True\n"
     ]
    }
   ],
   "source": [
    "x=False\n",
    "print(not x)"
   ]
  },
  {
   "cell_type": "code",
   "execution_count": 29,
   "id": "c74ac3ae-6c7c-458e-8471-8141b537cef4",
   "metadata": {},
   "outputs": [
    {
     "name": "stdout",
     "output_type": "stream",
     "text": [
      "you can't vote\n"
     ]
    }
   ],
   "source": [
    "age=12\n",
    "if age>=18:\n",
    "    print(\"you can vote\")\n",
    "else:\n",
    "    print(\"you can't vote\")"
   ]
  },
  {
   "cell_type": "code",
   "execution_count": 30,
   "id": "c389fd65-bea4-4966-8b88-b3835c2f8f54",
   "metadata": {},
   "outputs": [
    {
     "name": "stdout",
     "output_type": "stream",
     "text": [
      "medium age \n"
     ]
    }
   ],
   "source": [
    "age=int(input(\"Enter your age:\"))\n",
    "if age<=15:\n",
    "    print(\"child\")\n",
    "elif age>15 and age<25:\n",
    "    print(\"medium age \")\n",
    "else:\n",
    "    print(\"Adult person\")\n"
   ]
  },
  {
   "cell_type": "code",
   "execution_count": 31,
   "id": "7d7807f3-1af0-4ae4-bb0a-9807be371b8d",
   "metadata": {},
   "outputs": [
    {
     "name": "stdout",
     "output_type": "stream",
     "text": [
      "Even\n"
     ]
    }
   ],
   "source": [
    " num = 40\n",
    " if num%2==0:\n",
    "    print(\"Even\")\n",
    " else:\n",
    "    print(\"Odd\")"
   ]
  },
  {
   "cell_type": "code",
   "execution_count": 32,
   "id": "995525ea-a729-4b7f-8d62-856caa232ec9",
   "metadata": {},
   "outputs": [
    {
     "name": "stdout",
     "output_type": "stream",
     "text": [
      "+ve\n",
      "even +ve number\n"
     ]
    }
   ],
   "source": [
    "a=int(input(\"enter your number\"))\n",
    "if a>0:\n",
    "    print(\"+ve\")\n",
    "    if a%2==0:\n",
    "        print(\"even +ve number\")\n",
    "    else :\n",
    "        print(\"odd +ve number\")\n",
    "else:\n",
    "    print(\"0 or -ve number\")"
   ]
  },
  {
   "cell_type": "code",
   "execution_count": 33,
   "id": "e9ba69da-2ac3-4954-8f4f-9499fb67579f",
   "metadata": {},
   "outputs": [
    {
     "name": "stdout",
     "output_type": "stream",
     "text": [
      "Its a leap year\n"
     ]
    }
   ],
   "source": [
    "year=int(input(\"enter Your Year\"))\n",
    "if year%4==0:\n",
    "    if year%100:\n",
    "        if year%400:\n",
    "            print(\"Its a leap year\")\n",
    "        else:\n",
    "            print(\"Not a leap year\")\n",
    "    else:\n",
    "        print(\"Not a leap year\")   \n",
    "else:\n",
    "    print(\"Not a leap year\")  "
   ]
  },
  {
   "cell_type": "code",
   "execution_count": 34,
   "id": "4712cd6c-3626-4c7c-a0fc-d66c36b8d7d9",
   "metadata": {},
   "outputs": [
    {
     "name": "stdout",
     "output_type": "stream",
     "text": [
      "Result: 30.0\n"
     ]
    }
   ],
   "source": [
    " num1 = float(input(\"Enter first number: \"))\n",
    " num2 = float(input(\"Enter second number: \"))\n",
    " operation = input(\"Enter operation (+, -, *, /): \")\n",
    " \n",
    " if operation == '+':\n",
    "    result = num1 + num2\n",
    " elif operation == '-':\n",
    "    result = num1 - num2\n",
    " elif operation == '*':\n",
    "    result = num1 * num2\n",
    " elif operation == '/':\n",
    "    if num2 != 0:\n",
    "        result = num1 / num2\n",
    "    else:\n",
    "        result = \"Error! Division by zero.\"\n",
    " else:\n",
    "    result = \"Invalid operation.\"\n",
    " print(\"Result:\", result)"
   ]
  },
  {
   "cell_type": "code",
   "execution_count": 35,
   "id": "6228d7e9-c93f-4826-91e5-0ee4573ca194",
   "metadata": {},
   "outputs": [
    {
     "name": "stdout",
     "output_type": "stream",
     "text": [
      "Ticket Price is $24\n"
     ]
    }
   ],
   "source": [
    "age=int(input(\"Enter your age:\"))\n",
    "is_stu=str(input(\"Are you  student?(Y or N)\")).lower()\n",
    "if age<5:\n",
    "    price=free\n",
    "elif age<=12:\n",
    "    price='$12'\n",
    "elif age<=17:\n",
    "    if is_stu=='y':\n",
    "        price='$14'\n",
    "    else:\n",
    "        price='$15'\n",
    "elif age<=64:\n",
    "    if is_stu=='y':\n",
    "        price='$24'\n",
    "    else:\n",
    "        price='$29'\n",
    "else:\n",
    "    price='$50'\n",
    "print(\"Ticket Price is\", price)    "
   ]
  },
  {
   "cell_type": "code",
   "execution_count": 37,
   "id": "04fc6a3e-b9da-464c-bcd4-a961a933b764",
   "metadata": {},
   "outputs": [
    {
     "name": "stdout",
     "output_type": "stream",
     "text": [
      "password incorrect\n"
     ]
    }
   ],
   "source": [
    "stored_u='shivam0001'\n",
    "stored_password='chahar0001'\n",
    "input_u=str(input(\"Enter your username:\"))                                          \n",
    "input_password=str(input(\"Enter your password:\"))\n",
    "if input_u==stored_u:\n",
    "    if input_password==stored_password:\n",
    "        print(\"login successfull\")\n",
    "    else:\n",
    "        print(\"password incorrect\")\n",
    "else:\n",
    "    print(\"No user found\")"
   ]
  },
  {
   "cell_type": "code",
   "execution_count": 38,
   "id": "6b74465a-9b09-4350-a281-d9565ae3bcfd",
   "metadata": {},
   "outputs": [],
   "source": [
    "#6 loops"
   ]
  },
  {
   "cell_type": "code",
   "execution_count": 39,
   "id": "12704a67-4c27-46f8-b444-6f5c3efdbd1e",
   "metadata": {},
   "outputs": [
    {
     "data": {
      "text/plain": [
       "range(0, 6)"
      ]
     },
     "execution_count": 39,
     "metadata": {},
     "output_type": "execute_result"
    }
   ],
   "source": [
    "range(6)"
   ]
  },
  {
   "cell_type": "code",
   "execution_count": 40,
   "id": "c826d7ac-0805-49ab-8b34-67b5ea6aa5a8",
   "metadata": {},
   "outputs": [
    {
     "name": "stdout",
     "output_type": "stream",
     "text": [
      "0\n",
      "1\n",
      "2\n",
      "3\n",
      "4\n",
      "5\n"
     ]
    }
   ],
   "source": [
    "for i in range(0,6):\n",
    "    print(i)"
   ]
  },
  {
   "cell_type": "code",
   "execution_count": 41,
   "id": "d2b53772-dce4-48e3-b831-7be10b5bdd3e",
   "metadata": {},
   "outputs": [
    {
     "name": "stdout",
     "output_type": "stream",
     "text": [
      "Shivam 0\n",
      "Shivam 1\n",
      "Shivam 2\n",
      "Shivam 3\n",
      "Shivam 4\n",
      "Shivam 5\n",
      "Shivam 6\n",
      "Shivam 7\n"
     ]
    }
   ],
   "source": [
    "for i in range(0,8):\n",
    "    print(\"Shivam\",i)"
   ]
  },
  {
   "cell_type": "code",
   "execution_count": 42,
   "id": "6c24d9db-cc06-42d6-ad69-9fa03cec4ada",
   "metadata": {},
   "outputs": [],
   "source": [
    "for i in range(1,10,-1):\n",
    "    print(i)"
   ]
  },
  {
   "cell_type": "code",
   "execution_count": 43,
   "id": "816d73c7-de05-444e-bf02-a4f9b2546089",
   "metadata": {},
   "outputs": [
    {
     "name": "stdout",
     "output_type": "stream",
     "text": [
      "10\n",
      "9\n",
      "8\n",
      "7\n",
      "6\n",
      "5\n",
      "4\n",
      "3\n",
      "2\n"
     ]
    }
   ],
   "source": [
    "for i in range(10,1,-1):\n",
    "    print(i)"
   ]
  },
  {
   "cell_type": "code",
   "execution_count": 44,
   "id": "1e3e0f7f-ada4-412d-9398-0c2d75e1d17f",
   "metadata": {},
   "outputs": [
    {
     "name": "stdout",
     "output_type": "stream",
     "text": [
      "S\n",
      "h\n",
      "i\n",
      "v\n",
      "a\n",
      "m\n",
      " \n",
      "C\n",
      "h\n",
      "a\n",
      "h\n",
      "a\n",
      "r\n"
     ]
    }
   ],
   "source": [
    "name =\"Shivam Chahar\"\n",
    "for i in name:\n",
    "    print(i)"
   ]
  },
  {
   "cell_type": "code",
   "execution_count": 45,
   "id": "bbfb9437-71ae-4ee6-904f-8931fa4cf7d9",
   "metadata": {},
   "outputs": [
    {
     "name": "stdout",
     "output_type": "stream",
     "text": [
      "0\n",
      "1\n",
      "2\n",
      "3\n",
      "4\n"
     ]
    }
   ],
   "source": [
    " count=0\n",
    " while count<5:\n",
    "    print(count)\n",
    "    count=count+1"
   ]
  },
  {
   "cell_type": "code",
   "execution_count": 46,
   "id": "8330f6ea-1b4d-4ebe-83fa-051938810741",
   "metadata": {},
   "outputs": [
    {
     "name": "stdout",
     "output_type": "stream",
     "text": [
      "Help on class range in module builtins:\n",
      "\n",
      "class range(object)\n",
      " |  range(stop) -> range object\n",
      " |  range(start, stop[, step]) -> range object\n",
      " |  \n",
      " |  Return an object that produces a sequence of integers from start (inclusive)\n",
      " |  to stop (exclusive) by step.  range(i, j) produces i, i+1, i+2, ..., j-1.\n",
      " |  start defaults to 0, and stop is omitted!  range(4) produces 0, 1, 2, 3.\n",
      " |  These are exactly the valid indices for a list of 4 elements.\n",
      " |  When step is given, it specifies the increment (or decrement).\n",
      " |  \n",
      " |  Methods defined here:\n",
      " |  \n",
      " |  __bool__(self, /)\n",
      " |      True if self else False\n",
      " |  \n",
      " |  __contains__(self, key, /)\n",
      " |      Return key in self.\n",
      " |  \n",
      " |  __eq__(self, value, /)\n",
      " |      Return self==value.\n",
      " |  \n",
      " |  __ge__(self, value, /)\n",
      " |      Return self>=value.\n",
      " |  \n",
      " |  __getattribute__(self, name, /)\n",
      " |      Return getattr(self, name).\n",
      " |  \n",
      " |  __getitem__(self, key, /)\n",
      " |      Return self[key].\n",
      " |  \n",
      " |  __gt__(self, value, /)\n",
      " |      Return self>value.\n",
      " |  \n",
      " |  __hash__(self, /)\n",
      " |      Return hash(self).\n",
      " |  \n",
      " |  __iter__(self, /)\n",
      " |      Implement iter(self).\n",
      " |  \n",
      " |  __le__(self, value, /)\n",
      " |      Return self<=value.\n",
      " |  \n",
      " |  __len__(self, /)\n",
      " |      Return len(self).\n",
      " |  \n",
      " |  __lt__(self, value, /)\n",
      " |      Return self<value.\n",
      " |  \n",
      " |  __ne__(self, value, /)\n",
      " |      Return self!=value.\n",
      " |  \n",
      " |  __reduce__(...)\n",
      " |      Helper for pickle.\n",
      " |  \n",
      " |  __repr__(self, /)\n",
      " |      Return repr(self).\n",
      " |  \n",
      " |  __reversed__(...)\n",
      " |      Return a reverse iterator.\n",
      " |  \n",
      " |  count(...)\n",
      " |      rangeobject.count(value) -> integer -- return number of occurrences of value\n",
      " |  \n",
      " |  index(...)\n",
      " |      rangeobject.index(value) -> integer -- return index of value.\n",
      " |      Raise ValueError if the value is not present.\n",
      " |  \n",
      " |  ----------------------------------------------------------------------\n",
      " |  Static methods defined here:\n",
      " |  \n",
      " |  __new__(*args, **kwargs) from builtins.type\n",
      " |      Create and return a new object.  See help(type) for accurate signature.\n",
      " |  \n",
      " |  ----------------------------------------------------------------------\n",
      " |  Data descriptors defined here:\n",
      " |  \n",
      " |  start\n",
      " |  \n",
      " |  step\n",
      " |  \n",
      " |  stop\n",
      "\n"
     ]
    }
   ],
   "source": [
    "help(range)"
   ]
  },
  {
   "cell_type": "code",
   "execution_count": 47,
   "id": "79303afb-af5f-4a94-8229-2eee2418503e",
   "metadata": {},
   "outputs": [
    {
     "name": "stdout",
     "output_type": "stream",
     "text": [
      "0\n",
      "1\n",
      "2\n",
      "3\n",
      "4\n",
      "5\n"
     ]
    }
   ],
   "source": [
    "for i in range(10):\n",
    "    if i==6:\n",
    "        break\n",
    "    print(i)"
   ]
  },
  {
   "cell_type": "code",
   "execution_count": 57,
   "id": "dbf66076-9563-438d-a841-477c34b9bf44",
   "metadata": {},
   "outputs": [
    {
     "name": "stdout",
     "output_type": "stream",
     "text": [
      "1\n",
      "3\n",
      "5\n",
      "7\n",
      "9\n",
      "11\n",
      "13\n"
     ]
    }
   ],
   "source": [
    "for i in range(15):\n",
    "    if i%2==0:\n",
    "        continue\n",
    "    print(i)"
   ]
  },
  {
   "cell_type": "code",
   "execution_count": 58,
   "id": "1c0ba546-7035-4e2d-97b8-b38fe6b32ec1",
   "metadata": {},
   "outputs": [
    {
     "name": "stdout",
     "output_type": "stream",
     "text": [
      "Sum of first 10 natural number: 78\n"
     ]
    }
   ],
   "source": [
    " n=12  \n",
    " sum=0\n",
    " count=1\n",
    " while count<=n:\n",
    "    sum=sum+count\n",
    "    count=count+1\n",
    " print(\"Sum of first 10 natural number:\",sum)"
   ]
  },
  {
   "cell_type": "code",
   "execution_count": 59,
   "id": "578c9bdc-bb21-4812-94d4-067d42cb217b",
   "metadata": {},
   "outputs": [
    {
     "name": "stdout",
     "output_type": "stream",
     "text": [
      "55\n"
     ]
    }
   ],
   "source": [
    "n=11\n",
    "sum=0\n",
    "for i in range(11):\n",
    "    sum=sum+i\n",
    "print(sum)"
   ]
  },
  {
   "cell_type": "code",
   "execution_count": 60,
   "id": "d8d5ef5f-9565-458d-96b7-646e9ace7e85",
   "metadata": {},
   "outputs": [
    {
     "name": "stdout",
     "output_type": "stream",
     "text": [
      "5*1=5\n",
      "5*2=10\n",
      "5*3=15\n",
      "5*4=20\n",
      "5*5=25\n",
      "5*6=30\n",
      "5*7=35\n",
      "5*8=40\n",
      "5*9=45\n",
      "5*10=50\n"
     ]
    }
   ],
   "source": [
    "n=int(input(\"Enter any number:\"))\n",
    "for i in range(1,11):\n",
    "    print(f\"{n}*{i}={n*i}\")"
   ]
  },
  {
   "cell_type": "code",
   "execution_count": 61,
   "id": "d4b255eb-9edb-4a13-90b6-c7c33ed21807",
   "metadata": {},
   "outputs": [
    {
     "name": "stdout",
     "output_type": "stream",
     "text": [
      "2\n",
      "3\n",
      "5\n",
      "7\n",
      "11\n",
      "13\n",
      "17\n",
      "19\n",
      "23\n",
      "29\n",
      "31\n",
      "37\n",
      "41\n",
      "43\n",
      "47\n",
      "53\n",
      "59\n",
      "61\n",
      "67\n",
      "71\n",
      "73\n",
      "79\n",
      "83\n",
      "89\n",
      "97\n"
     ]
    }
   ],
   "source": [
    "for num in range(1,101):\n",
    "    if num>1:\n",
    "        for i in range(2,num):\n",
    "            if num%i==0:\n",
    "                break\n",
    "        else:\n",
    "            print(num)"
   ]
  },
  {
   "cell_type": "code",
   "execution_count": 174,
   "id": "b6a67e14-8084-479e-9a4b-144055d4adae",
   "metadata": {},
   "outputs": [],
   "source": [
    "#7"
   ]
  },
  {
   "cell_type": "code",
   "execution_count": 62,
   "id": "754857d7-9660-42fa-b6cc-05e167142fa5",
   "metadata": {},
   "outputs": [
    {
     "name": "stdout",
     "output_type": "stream",
     "text": [
      "apple\n",
      "banana\n",
      "gauva\n",
      "gauva\n"
     ]
    }
   ],
   "source": [
    "fruits=[\"apple\", \"banana\",\"cherry\",\"kiwi\",\"gauva\"]\n",
    "\n",
    "print(fruits[0])\n",
    "print(fruits[1])\n",
    "print(fruits[4])\n",
    "print(fruits[-1])"
   ]
  },
  {
   "cell_type": "code",
   "execution_count": 63,
   "id": "cbc537a5-a401-41a2-ba51-c17e6f17a5db",
   "metadata": {},
   "outputs": [
    {
     "data": {
      "text/plain": [
       "['apple', 'banana', 'cherry', 'kiwi']"
      ]
     },
     "execution_count": 63,
     "metadata": {},
     "output_type": "execute_result"
    }
   ],
   "source": [
    "fruits[0:4]"
   ]
  },
  {
   "cell_type": "code",
   "execution_count": 64,
   "id": "e6f68944-51b0-4343-b492-555c1e808598",
   "metadata": {},
   "outputs": [
    {
     "name": "stdout",
     "output_type": "stream",
     "text": [
      "['banana', 'cherry', 'kiwi', 'gauva']\n",
      "['banana', 'cherry']\n",
      "['apple', 'banana', 'cherry']\n",
      "['apple', 'banana', 'cherry', 'kiwi', 'gauva']\n",
      "['gauva', 'kiwi', 'cherry', 'banana', 'apple']\n"
     ]
    }
   ],
   "source": [
    "print(fruits[1:])\n",
    "print(fruits[1:3])\n",
    "print(fruits[:3])\n",
    "print(fruits[:])\n",
    "print(fruits[::-1])"
   ]
  },
  {
   "cell_type": "code",
   "execution_count": 66,
   "id": "63d79ea4-6a61-46d8-a803-fbb723075930",
   "metadata": {},
   "outputs": [
    {
     "data": {
      "text/plain": [
       "'cherry'"
      ]
     },
     "execution_count": 66,
     "metadata": {},
     "output_type": "execute_result"
    }
   ],
   "source": [
    "fruits[2]"
   ]
  },
  {
   "cell_type": "code",
   "execution_count": 67,
   "id": "3a0b475a-2e4e-4a02-baf6-37f0288a78c0",
   "metadata": {},
   "outputs": [
    {
     "name": "stdout",
     "output_type": "stream",
     "text": [
      "['apple', 'watermelon', 'cherry', 'kiwi', 'gauva']\n"
     ]
    }
   ],
   "source": [
    "fruits[1] = \"watermelon\"\n",
    "print(fruits)"
   ]
  },
  {
   "cell_type": "code",
   "execution_count": 68,
   "id": "1c523dfe-9498-42b2-b6a6-a9fed55dd474",
   "metadata": {},
   "outputs": [
    {
     "data": {
      "text/plain": [
       "['apple', 'w', 'a', 't', 'e', 'r', 'm', 'e', 'l', 'o', 'n']"
      ]
     },
     "execution_count": 68,
     "metadata": {},
     "output_type": "execute_result"
    }
   ],
   "source": [
    "fruits[1:] = \"watermelon\"\n",
    "fruits"
   ]
  },
  {
   "cell_type": "code",
   "execution_count": 69,
   "id": "71a98b42-d2b8-41d8-b121-b3510b9d5dfd",
   "metadata": {},
   "outputs": [
    {
     "data": {
      "text/plain": [
       "['apple',\n",
       " 'w',\n",
       " 'a',\n",
       " 't',\n",
       " 'e',\n",
       " 'r',\n",
       " 'm',\n",
       " 'e',\n",
       " 'l',\n",
       " 'o',\n",
       " 'n',\n",
       " 't',\n",
       " 'e',\n",
       " 'r',\n",
       " 'm',\n",
       " 'e',\n",
       " 'l',\n",
       " 'o',\n",
       " 'n']"
      ]
     },
     "execution_count": 69,
     "metadata": {},
     "output_type": "execute_result"
    }
   ],
   "source": [
    "fruits[1:3] = \"watermelon\"\n",
    "fruits"
   ]
  },
  {
   "cell_type": "code",
   "execution_count": 70,
   "id": "2e61e338-e52f-4e7e-90e9-5ec64d80621a",
   "metadata": {},
   "outputs": [
    {
     "data": {
      "text/plain": [
       "['apple',\n",
       " 'w',\n",
       " 'a',\n",
       " 't',\n",
       " 'e',\n",
       " 'r',\n",
       " 'm',\n",
       " 'e',\n",
       " 'l',\n",
       " 'o',\n",
       " 'n',\n",
       " 't',\n",
       " 'e',\n",
       " 'r',\n",
       " 'm',\n",
       " 'e',\n",
       " 'l',\n",
       " 'o',\n",
       " 'n',\n",
       " 'orange']"
      ]
     },
     "execution_count": 70,
     "metadata": {},
     "output_type": "execute_result"
    }
   ],
   "source": [
    "fruits.append(\"orange\")\n",
    "fruits"
   ]
  },
  {
   "cell_type": "code",
   "execution_count": 71,
   "id": "bf079e79-d4f4-4cb1-9e47-4b1dbb71a473",
   "metadata": {},
   "outputs": [
    {
     "name": "stdout",
     "output_type": "stream",
     "text": [
      "['apple', 'watermelon', 'w', 'a', 't', 'e', 'r', 'm', 'e', 'l', 'o', 'n', 't', 'e', 'r', 'm', 'e', 'l', 'o', 'n', 'orange']\n"
     ]
    }
   ],
   "source": [
    "fruits.insert(1,\"watermelon\")\n",
    "print(fruits)"
   ]
  },
  {
   "cell_type": "code",
   "execution_count": 75,
   "id": "135c40bc-65d5-40ab-9a0f-62c663b61f60",
   "metadata": {},
   "outputs": [
    {
     "data": {
      "text/plain": [
       "['watermelon',\n",
       " 'w',\n",
       " 'a',\n",
       " 't',\n",
       " 'e',\n",
       " 'r',\n",
       " 'm',\n",
       " 'e',\n",
       " 'l',\n",
       " 'o',\n",
       " 'n',\n",
       " 't',\n",
       " 'e',\n",
       " 'r',\n",
       " 'm',\n",
       " 'e',\n",
       " 'l',\n",
       " 'o',\n",
       " 'n',\n",
       " 'orange']"
      ]
     },
     "execution_count": 75,
     "metadata": {},
     "output_type": "execute_result"
    }
   ],
   "source": [
    "fruits.remove(\"apple\")\n",
    "fruits"
   ]
  },
  {
   "cell_type": "code",
   "execution_count": 76,
   "id": "3593af45-82c9-4821-95e6-b402f23fcbdb",
   "metadata": {},
   "outputs": [
    {
     "name": "stdout",
     "output_type": "stream",
     "text": [
      "['watermelon', 'w', 'a', 't', 'e', 'r', 'm', 'e', 'l', 'o', 'n', 't', 'e', 'r', 'm', 'e', 'l', 'o', 'n']\n",
      "orange\n"
     ]
    }
   ],
   "source": [
    " popped_fruits=fruits.pop()\n",
    " print(fruits)\n",
    " print(popped_fruits)    "
   ]
  },
  {
   "cell_type": "code",
   "execution_count": 79,
   "id": "298bd285-1836-4a06-ad65-194c5e618f9d",
   "metadata": {},
   "outputs": [
    {
     "name": "stdout",
     "output_type": "stream",
     "text": [
      "1\n"
     ]
    }
   ],
   "source": [
    "index=fruits.index(\"w\")\n",
    "print(index)"
   ]
  },
  {
   "cell_type": "code",
   "execution_count": 80,
   "id": "af780457-de29-425a-80d8-04ddadafbf4d",
   "metadata": {},
   "outputs": [
    {
     "data": {
      "text/plain": [
       "['watermelon',\n",
       " 'w',\n",
       " 'banana',\n",
       " 'a',\n",
       " 't',\n",
       " 'e',\n",
       " 'r',\n",
       " 'm',\n",
       " 'e',\n",
       " 'l',\n",
       " 'o',\n",
       " 'n',\n",
       " 't',\n",
       " 'e',\n",
       " 'r',\n",
       " 'm',\n",
       " 'e',\n",
       " 'l',\n",
       " 'o',\n",
       " 'n']"
      ]
     },
     "execution_count": 80,
     "metadata": {},
     "output_type": "execute_result"
    }
   ],
   "source": [
    "fruits.insert(2,\"banana\")\n",
    "fruits"
   ]
  },
  {
   "cell_type": "code",
   "execution_count": 81,
   "id": "bde5fd93-26f7-49c4-899f-289cfa3d2348",
   "metadata": {},
   "outputs": [
    {
     "name": "stdout",
     "output_type": "stream",
     "text": [
      "1\n"
     ]
    }
   ],
   "source": [
    "print(fruits.count(\"banana\"))"
   ]
  },
  {
   "cell_type": "code",
   "execution_count": 82,
   "id": "bb54f81a-93de-47d4-b802-5366f5fe7ac9",
   "metadata": {},
   "outputs": [],
   "source": [
    "fruits.append(\"avocado\")\n"
   ]
  },
  {
   "cell_type": "code",
   "execution_count": 83,
   "id": "5c14d884-d394-441d-9103-65efa2d7e949",
   "metadata": {},
   "outputs": [
    {
     "data": {
      "text/plain": [
       "['a',\n",
       " 'avocado',\n",
       " 'banana',\n",
       " 'e',\n",
       " 'e',\n",
       " 'e',\n",
       " 'e',\n",
       " 'l',\n",
       " 'l',\n",
       " 'm',\n",
       " 'm',\n",
       " 'n',\n",
       " 'n',\n",
       " 'o',\n",
       " 'o',\n",
       " 'r',\n",
       " 'r',\n",
       " 't',\n",
       " 't',\n",
       " 'w',\n",
       " 'watermelon']"
      ]
     },
     "execution_count": 83,
     "metadata": {},
     "output_type": "execute_result"
    }
   ],
   "source": [
    "fruits.sort()\n",
    "fruits"
   ]
  },
  {
   "cell_type": "code",
   "execution_count": 84,
   "id": "a6c76112-c7f0-4eab-8568-6e590cd4aeb3",
   "metadata": {},
   "outputs": [
    {
     "data": {
      "text/plain": [
       "['watermelon',\n",
       " 'w',\n",
       " 't',\n",
       " 't',\n",
       " 'r',\n",
       " 'r',\n",
       " 'o',\n",
       " 'o',\n",
       " 'n',\n",
       " 'n',\n",
       " 'm',\n",
       " 'm',\n",
       " 'l',\n",
       " 'l',\n",
       " 'e',\n",
       " 'e',\n",
       " 'e',\n",
       " 'e',\n",
       " 'banana',\n",
       " 'avocado',\n",
       " 'a']"
      ]
     },
     "execution_count": 84,
     "metadata": {},
     "output_type": "execute_result"
    }
   ],
   "source": [
    "fruits.reverse()\n",
    "fruits"
   ]
  },
  {
   "cell_type": "code",
   "execution_count": 85,
   "id": "623640e3-3ef6-43c3-ba80-176ea3f7dc4d",
   "metadata": {},
   "outputs": [
    {
     "data": {
      "text/plain": [
       "[]"
      ]
     },
     "execution_count": 85,
     "metadata": {},
     "output_type": "execute_result"
    }
   ],
   "source": [
    "fruits.clear()\n",
    "fruits"
   ]
  },
  {
   "cell_type": "code",
   "execution_count": 86,
   "id": "54b335e3-91ae-4c7f-812e-92e4a31292a7",
   "metadata": {},
   "outputs": [
    {
     "data": {
      "text/plain": [
       "[1, 2, 3, 4, 5, 6, 7, 8, 9, 10]"
      ]
     },
     "execution_count": 86,
     "metadata": {},
     "output_type": "execute_result"
    }
   ],
   "source": [
    "x=[i for i in range(1,11)]\n",
    "x"
   ]
  },
  {
   "cell_type": "code",
   "execution_count": 87,
   "id": "a1ae950e-a5a0-4b3a-bb33-4650b4ac6af1",
   "metadata": {},
   "outputs": [
    {
     "name": "stdout",
     "output_type": "stream",
     "text": [
      "1\n",
      "2\n",
      "3\n",
      "4\n",
      "5\n",
      "6\n",
      "7\n",
      "8\n",
      "9\n",
      "10\n"
     ]
    }
   ],
   "source": [
    "for number in x:\n",
    "    print(number)"
   ]
  },
  {
   "cell_type": "code",
   "execution_count": 88,
   "id": "64739c3d-3e0c-463d-b77b-fdf8635bca94",
   "metadata": {},
   "outputs": [
    {
     "name": "stdout",
     "output_type": "stream",
     "text": [
      "0 1\n",
      "1 2\n",
      "2 3\n",
      "3 4\n",
      "4 5\n",
      "5 6\n",
      "6 7\n",
      "7 8\n",
      "8 9\n",
      "9 10\n"
     ]
    }
   ],
   "source": [
    "for index, number in enumerate(x):\n",
    "    print(index,number)"
   ]
  },
  {
   "cell_type": "code",
   "execution_count": 89,
   "id": "c52d756d-0fad-4313-b383-1cceaa2ae1ef",
   "metadata": {},
   "outputs": [
    {
     "data": {
      "text/plain": [
       "1"
      ]
     },
     "execution_count": 89,
     "metadata": {},
     "output_type": "execute_result"
    }
   ],
   "source": [
    "x.count(2)"
   ]
  },
  {
   "cell_type": "code",
   "execution_count": 90,
   "id": "93b43ec3-dee7-43ce-b380-f2141054d22f",
   "metadata": {},
   "outputs": [
    {
     "data": {
      "text/plain": [
       "10"
      ]
     },
     "execution_count": 90,
     "metadata": {},
     "output_type": "execute_result"
    }
   ],
   "source": [
    "len(x)"
   ]
  },
  {
   "cell_type": "code",
   "execution_count": 91,
   "id": "077cb9d6-9252-432e-bd9f-e912975dafbf",
   "metadata": {},
   "outputs": [
    {
     "name": "stdout",
     "output_type": "stream",
     "text": [
      "[1, 9, 25, 49, 81]\n"
     ]
    }
   ],
   "source": [
    "lst=[]\n",
    "for x in range(1,11,2):\n",
    "   lst.append(x**2)\n",
    "print(lst)"
   ]
  },
  {
   "cell_type": "code",
   "execution_count": 93,
   "id": "9f2e3c44-abd4-4286-ae3e-031d5077e85f",
   "metadata": {},
   "outputs": [],
   "source": [
    "#8 tuple"
   ]
  },
  {
   "cell_type": "code",
   "execution_count": 92,
   "id": "0d620bab-ee1d-4c28-a4ba-ce34ea93da10",
   "metadata": {},
   "outputs": [
    {
     "name": "stdout",
     "output_type": "stream",
     "text": [
      "()\n",
      "<class 'tuple'>\n"
     ]
    }
   ],
   "source": [
    " empty_tuple=()\n",
    " print(empty_tuple)\n",
    " print(type(empty_tuple))"
   ]
  },
  {
   "cell_type": "code",
   "execution_count": 94,
   "id": "d1153abf-c354-43ea-8b35-2d3f6a9251b9",
   "metadata": {},
   "outputs": [
    {
     "name": "stdout",
     "output_type": "stream",
     "text": [
      "<class 'tuple'>\n"
     ]
    }
   ],
   "source": [
    " tpl=tuple()\n",
    " print(type(tpl))"
   ]
  },
  {
   "cell_type": "code",
   "execution_count": 95,
   "id": "f6f25ceb-9823-4d75-9578-bd31542eb877",
   "metadata": {},
   "outputs": [
    {
     "name": "stdout",
     "output_type": "stream",
     "text": [
      "<class 'tuple'>\n"
     ]
    }
   ],
   "source": [
    " tpl1 = (1,2,3,4,5)\n",
    " print(type(tpl1))"
   ]
  },
  {
   "cell_type": "code",
   "execution_count": 96,
   "id": "5f2272d6-12f3-4812-8743-08f5039a4206",
   "metadata": {},
   "outputs": [
    {
     "data": {
      "text/plain": [
       "[1, 2, 3, 4, 5]"
      ]
     },
     "execution_count": 96,
     "metadata": {},
     "output_type": "execute_result"
    }
   ],
   "source": [
    " lst = [1,2,3,4,5]\n",
    " lst"
   ]
  },
  {
   "cell_type": "code",
   "execution_count": 97,
   "id": "35631aad-98cc-4ed7-b89f-f87bb4a65353",
   "metadata": {},
   "outputs": [
    {
     "data": {
      "text/plain": [
       "(1, 2, 3, 4, 5)"
      ]
     },
     "execution_count": 97,
     "metadata": {},
     "output_type": "execute_result"
    }
   ],
   "source": [
    "numbers=tuple(lst)\n",
    "numbers"
   ]
  },
  {
   "cell_type": "code",
   "execution_count": 98,
   "id": "110a9896-ac3e-4362-8528-9d8304b027df",
   "metadata": {},
   "outputs": [
    {
     "data": {
      "text/plain": [
       "[1, 2, 3, 4, 5]"
      ]
     },
     "execution_count": 98,
     "metadata": {},
     "output_type": "execute_result"
    }
   ],
   "source": [
    "list(numbers)"
   ]
  },
  {
   "cell_type": "code",
   "execution_count": 99,
   "id": "af98423c-3c57-4dfd-abdf-260cd7beb2c6",
   "metadata": {},
   "outputs": [
    {
     "name": "stdout",
     "output_type": "stream",
     "text": [
      "(1, 'Hello World', 3.14, True)\n"
     ]
    }
   ],
   "source": [
    " mixed_tuple=(1,\"Hello World\",3.14, True)\n",
    " print(mixed_tuple)"
   ]
  },
  {
   "cell_type": "code",
   "execution_count": 100,
   "id": "88fcf7da-a905-4994-a043-b18d27f8e50a",
   "metadata": {},
   "outputs": [
    {
     "data": {
      "text/plain": [
       "(1, 2, 3, 4, 5)"
      ]
     },
     "execution_count": 100,
     "metadata": {},
     "output_type": "execute_result"
    }
   ],
   "source": [
    "numbers"
   ]
  },
  {
   "cell_type": "code",
   "execution_count": 101,
   "id": "7d83a6fe-9389-4ebe-be5a-d3187b86203e",
   "metadata": {},
   "outputs": [
    {
     "name": "stdout",
     "output_type": "stream",
     "text": [
      "4\n",
      "5\n"
     ]
    }
   ],
   "source": [
    " print(numbers[3])\n",
    " print(numbers[-1])"
   ]
  },
  {
   "cell_type": "code",
   "execution_count": 102,
   "id": "ffeadec9-44a3-4f95-b55e-0c87a4735b89",
   "metadata": {},
   "outputs": [
    {
     "data": {
      "text/plain": [
       "(1, 2, 3, 4)"
      ]
     },
     "execution_count": 102,
     "metadata": {},
     "output_type": "execute_result"
    }
   ],
   "source": [
    "numbers[0:4]"
   ]
  },
  {
   "cell_type": "code",
   "execution_count": 103,
   "id": "2b511b64-5887-4f92-bf75-ffc62aea2142",
   "metadata": {},
   "outputs": [
    {
     "data": {
      "text/plain": [
       "(5, 4, 3, 2, 1)"
      ]
     },
     "execution_count": 103,
     "metadata": {},
     "output_type": "execute_result"
    }
   ],
   "source": [
    "numbers[::-1]"
   ]
  },
  {
   "cell_type": "code",
   "execution_count": 104,
   "id": "c66bc50e-277f-4f2b-aa64-6ecb690e9ce5",
   "metadata": {},
   "outputs": [
    {
     "data": {
      "text/plain": [
       "(1, 2, 3, 4, 5)"
      ]
     },
     "execution_count": 104,
     "metadata": {},
     "output_type": "execute_result"
    }
   ],
   "source": [
    "numbers"
   ]
  },
  {
   "cell_type": "code",
   "execution_count": 105,
   "id": "6e829075-ee9b-4503-a9d9-8423b503ba15",
   "metadata": {},
   "outputs": [
    {
     "data": {
      "text/plain": [
       "(1, 'Hello World', 3.14, True)"
      ]
     },
     "execution_count": 105,
     "metadata": {},
     "output_type": "execute_result"
    }
   ],
   "source": [
    "mixed_tuple\n"
   ]
  },
  {
   "cell_type": "code",
   "execution_count": 106,
   "id": "a7812289-9ccf-4dfa-baab-d41004107f3c",
   "metadata": {},
   "outputs": [
    {
     "name": "stdout",
     "output_type": "stream",
     "text": [
      "(1, 2, 3, 4, 5, 1, 'Hello World', 3.14, True)\n"
     ]
    }
   ],
   "source": [
    " concatenation_tuple=numbers + mixed_tuple\n",
    " print(concatenation_tuple)"
   ]
  },
  {
   "cell_type": "code",
   "execution_count": 107,
   "id": "a353aaf4-703b-493c-8b4d-3f45476fb3e9",
   "metadata": {},
   "outputs": [
    {
     "data": {
      "text/plain": [
       "(1, 'Hello World', 3.14, True)"
      ]
     },
     "execution_count": 107,
     "metadata": {},
     "output_type": "execute_result"
    }
   ],
   "source": [
    "mixed_tuple"
   ]
  },
  {
   "cell_type": "code",
   "execution_count": 108,
   "id": "80d52f86-a894-4ea2-ba46-e5d6413ec79c",
   "metadata": {},
   "outputs": [
    {
     "data": {
      "text/plain": [
       "(1,\n",
       " 'Hello World',\n",
       " 3.14,\n",
       " True,\n",
       " 1,\n",
       " 'Hello World',\n",
       " 3.14,\n",
       " True,\n",
       " 1,\n",
       " 'Hello World',\n",
       " 3.14,\n",
       " True)"
      ]
     },
     "execution_count": 108,
     "metadata": {},
     "output_type": "execute_result"
    }
   ],
   "source": [
    "mixed_tuple * 3"
   ]
  },
  {
   "cell_type": "code",
   "execution_count": 48,
   "id": "9db3bdb7-5192-4e23-89a9-79753c7950a4",
   "metadata": {},
   "outputs": [
    {
     "name": "stdout",
     "output_type": "stream",
     "text": [
      "(1, 'Shivam', 78)\n"
     ]
    }
   ],
   "source": [
    "t=1,\"Shivam\",78\n",
    "print(t)"
   ]
  },
  {
   "cell_type": "code",
   "execution_count": 110,
   "id": "b05cedca-eb16-4f56-aaf4-472462d08f80",
   "metadata": {},
   "outputs": [
    {
     "name": "stdout",
     "output_type": "stream",
     "text": [
      "1\n",
      "Naman\n",
      "78\n"
     ]
    }
   ],
   "source": [
    "a,b,c=t\n",
    "print(a)\n",
    "print(b)\n",
    "print(c)"
   ]
  },
  {
   "cell_type": "code",
   "execution_count": 111,
   "id": "85193a1b-0180-4643-898b-3f2d0a834fe5",
   "metadata": {},
   "outputs": [
    {
     "name": "stdout",
     "output_type": "stream",
     "text": [
      "1\n",
      "[2, 3, 4, 5]\n",
      "6\n"
     ]
    }
   ],
   "source": [
    " numbers = (1,2,3,4,5,6)\n",
    " first, *middle, last = numbers\n",
    " print(first)\n",
    " print(middle)\n",
    " print(last)"
   ]
  },
  {
   "cell_type": "code",
   "execution_count": 112,
   "id": "cd042b11-d82a-433e-8bbd-ceebdbc3b8da",
   "metadata": {},
   "outputs": [
    {
     "data": {
      "text/plain": [
       "[[1, 2, 3, 4], [6, 7, 8, 9], [1, 'Hello', 3.14, 'c']]"
      ]
     },
     "execution_count": 112,
     "metadata": {},
     "output_type": "execute_result"
    }
   ],
   "source": [
    " lst=[[1,2,3,4],[6,7,8,9],[1,\"Hello\",3.14,\"c\"]]\n",
    " lst"
   ]
  },
  {
   "cell_type": "code",
   "execution_count": 113,
   "id": "ed2b7909-09c9-4337-b931-d8f86010e6bd",
   "metadata": {},
   "outputs": [
    {
     "data": {
      "text/plain": [
       "[1, 2, 3, 4]"
      ]
     },
     "execution_count": 113,
     "metadata": {},
     "output_type": "execute_result"
    }
   ],
   "source": [
    "lst[0]"
   ]
  },
  {
   "cell_type": "code",
   "execution_count": 114,
   "id": "cd955b2f-6a9d-40fe-b6ec-1ac60c4ae2b5",
   "metadata": {},
   "outputs": [
    {
     "data": {
      "text/plain": [
       "[[1, 2, 3, 4], [6, 7, 8, 9], (1, 'Hello', 3.14, 'c')]"
      ]
     },
     "execution_count": 114,
     "metadata": {},
     "output_type": "execute_result"
    }
   ],
   "source": [
    " lst=[[1,2,3,4],[6,7,8,9],(1,\"Hello\",3.14,\"c\")]\n",
    " lst"
   ]
  },
  {
   "cell_type": "code",
   "execution_count": 115,
   "id": "c0d2613a-c19b-45b1-9afc-2f43dcff8b81",
   "metadata": {},
   "outputs": [
    {
     "data": {
      "text/plain": [
       "(1, 'Hello', 3.14)"
      ]
     },
     "execution_count": 115,
     "metadata": {},
     "output_type": "execute_result"
    }
   ],
   "source": [
    "lst[2][0:3]"
   ]
  },
  {
   "cell_type": "code",
   "execution_count": 116,
   "id": "efdde22f-b2aa-42b0-937e-67c65004e8ef",
   "metadata": {},
   "outputs": [
    {
     "name": "stdout",
     "output_type": "stream",
     "text": [
      "(1, 1, 2, 3, 2)\n",
      "c\n"
     ]
    }
   ],
   "source": [
    " nested_tuple = ((1, 1, 2, 3, 2), (\"a\", \"b\", \"c\"), (True, False))\n",
    " print(nested_tuple[0])\n",
    " print(nested_tuple[1][2])"
   ]
  },
  {
   "cell_type": "code",
   "execution_count": 117,
   "id": "3b1fc917-4e5d-4610-a333-8705ac804857",
   "metadata": {},
   "outputs": [
    {
     "name": "stdout",
     "output_type": "stream",
     "text": [
      "1 1 2 3 2 \n",
      "a b c \n",
      "True False \n"
     ]
    }
   ],
   "source": [
    " for sub_tuple in nested_tuple:\n",
    "     for item in sub_tuple:\n",
    "         print(item,end=\" \")\n",
    "     print()"
   ]
  },
  {
   "cell_type": "code",
   "execution_count": 51,
   "id": "1dfd80f7-3b0d-4da2-a47a-8bd4a9580183",
   "metadata": {},
   "outputs": [
    {
     "name": "stdout",
     "output_type": "stream",
     "text": [
      "{'name': 'Shivam', 'age': 21, 'grade': 'A'}\n",
      "<class 'dict'>\n"
     ]
    }
   ],
   "source": [
    " student={\"name\":\"Shivam\", \"age\":21, \"grade\":\"A\"}\n",
    " print(student)\n",
    " print(type(student))"
   ]
  },
  {
   "cell_type": "code",
   "execution_count": 52,
   "id": "4757613b-1915-4a40-94a1-6c1c9a75f21c",
   "metadata": {},
   "outputs": [
    {
     "name": "stdout",
     "output_type": "stream",
     "text": [
      "{'name': 22, 'age': 21}\n"
     ]
    }
   ],
   "source": [
    " student={\"name\":\"Shivam\", \"age\":21, \"name\":22}\n",
    " print(student)"
   ]
  },
  {
   "cell_type": "code",
   "execution_count": 53,
   "id": "9e436e6c-6014-4c76-ba2c-f731e856b43a",
   "metadata": {},
   "outputs": [
    {
     "name": "stdout",
     "output_type": "stream",
     "text": [
      "{'name': 'Shivam', 'age': 12, 'grade': 'A'}\n"
     ]
    }
   ],
   "source": [
    " student={\"name\":\"Shivam\",\"age\":12,\"grade\":'A'}\n",
    " print(student)"
   ]
  },
  {
   "cell_type": "code",
   "execution_count": 121,
   "id": "d2c7a8b0-9dea-4390-879d-04271edca37c",
   "metadata": {},
   "outputs": [
    {
     "name": "stdout",
     "output_type": "stream",
     "text": [
      "A\n",
      "12\n"
     ]
    }
   ],
   "source": [
    " print(student['grade'])\n",
    " print(student['age'])"
   ]
  },
  {
   "cell_type": "code",
   "execution_count": 122,
   "id": "34af24d9-da01-437a-ac3b-1e488381e2b4",
   "metadata": {},
   "outputs": [
    {
     "name": "stdout",
     "output_type": "stream",
     "text": [
      "A\n"
     ]
    }
   ],
   "source": [
    "print(student.get('grade'))"
   ]
  },
  {
   "cell_type": "code",
   "execution_count": 123,
   "id": "b01391e6-1df7-4937-8742-4cc0324a5955",
   "metadata": {},
   "outputs": [
    {
     "name": "stdout",
     "output_type": "stream",
     "text": [
      "None\n"
     ]
    }
   ],
   "source": [
    "print(student.get('last_name'))"
   ]
  },
  {
   "cell_type": "code",
   "execution_count": null,
   "id": "407c2749-e79d-47e3-8b21-fdb64fa6634e",
   "metadata": {},
   "outputs": [
    {
     "name": "stdout",
     "output_type": "stream",
     "text": [
      "Not Available\n"
     ]
    }
   ],
   "source": [
    "print(student.get('last_name',\"Not Available\"))"
   ]
  },
  {
   "cell_type": "code",
   "execution_count": 54,
   "id": "f3388319-4e83-41e4-b5f6-0ebabc1fc8e4",
   "metadata": {},
   "outputs": [
    {
     "name": "stdout",
     "output_type": "stream",
     "text": [
      "{'name': 'Shivam', 'age': 33, 'grade': 'A'}\n"
     ]
    }
   ],
   "source": [
    " student[\"age\"]=33  \n",
    " print(student)"
   ]
  },
  {
   "cell_type": "code",
   "execution_count": 55,
   "id": "5e099ae4-4c0b-4b89-9fd6-6c5c0b7cf2e2",
   "metadata": {},
   "outputs": [
    {
     "name": "stdout",
     "output_type": "stream",
     "text": [
      "{'name': 'Shivam', 'age': 33, 'grade': 'A', 'address': 'India'}\n"
     ]
    }
   ],
   "source": [
    " student[\"address\"]=\"India\" \n",
    " print(student)"
   ]
  },
  {
   "cell_type": "code",
   "execution_count": 56,
   "id": "b6a3c65f-0227-4621-93f4-aa3d99160fe7",
   "metadata": {},
   "outputs": [
    {
     "name": "stdout",
     "output_type": "stream",
     "text": [
      "{'name': 'Shivam', 'age': 33, 'address': 'India'}\n"
     ]
    }
   ],
   "source": [
    "del student['grade']\n",
    "print(student)"
   ]
  },
  {
   "cell_type": "code",
   "execution_count": 57,
   "id": "e9af20ff-d0e8-4e2f-b962-d752ce1b02b4",
   "metadata": {},
   "outputs": [
    {
     "name": "stdout",
     "output_type": "stream",
     "text": [
      "dict_keys(['name', 'age', 'address'])\n",
      "dict_values(['Shivam', 33, 'India'])\n",
      "dict_items([('name', 'Shivam'), ('age', 33), ('address', 'India')])\n"
     ]
    }
   ],
   "source": [
    " keys=student.keys()\n",
    " print(keys)\n",
    " values=student.values()\n",
    " print(values)\n",
    " items=student.items()\n",
    " print(items)"
   ]
  },
  {
   "cell_type": "code",
   "execution_count": 58,
   "id": "76028e51-8202-4cf0-8a18-0a176c8f2d5d",
   "metadata": {},
   "outputs": [],
   "source": [
    " import copy\n",
    " student = {'name': 'Honey', 'subjects': ['Math', 'Science']}\n",
    " student_copy = copy.copy(student)"
   ]
  },
  {
   "cell_type": "code",
   "execution_count": 335,
   "id": "7ffba09e-74cf-418c-81e1-dd6207634f60",
   "metadata": {},
   "outputs": [
    {
     "data": {
      "text/plain": [
       "({'name': 'Honey', 'subjects': ['Math', 'Science']},\n",
       " {'name': 'Honey', 'subjects': ['Math', 'Science']})"
      ]
     },
     "execution_count": 335,
     "metadata": {},
     "output_type": "execute_result"
    }
   ],
   "source": [
    "student, student_copy"
   ]
  },
  {
   "cell_type": "code",
   "execution_count": 337,
   "id": "0efbaec4-4831-4953-877c-f2dc3d9e3666",
   "metadata": {},
   "outputs": [
    {
     "name": "stdout",
     "output_type": "stream",
     "text": [
      "{'name': 'Honey', 'subjects': ['Math', 'Science', 'English']}\n",
      "{'name': 'Honey', 'subjects': ['Math', 'Science', 'English']}\n"
     ]
    }
   ],
   "source": [
    " student['subjects'].append('English')\n",
    " print(student)\n",
    " print(student_copy)"
   ]
  },
  {
   "cell_type": "code",
   "execution_count": 341,
   "id": "74c1cdf4-e040-42fe-bde1-ab8bb785bdb8",
   "metadata": {},
   "outputs": [],
   "source": [
    " import copy\n",
    " student = {'name': 'Honey', 'subjects': ['Math', 'Science']}\n",
    " student_copy2 = copy.deepcopy(student)"
   ]
  },
  {
   "cell_type": "code",
   "execution_count": 343,
   "id": "9f2193be-eb66-4271-a67a-2a95bffb63ad",
   "metadata": {},
   "outputs": [
    {
     "data": {
      "text/plain": [
       "({'name': 'Honey', 'subjects': ['Math', 'Science']},\n",
       " {'name': 'Honey', 'subjects': ['Math', 'Science']})"
      ]
     },
     "execution_count": 343,
     "metadata": {},
     "output_type": "execute_result"
    }
   ],
   "source": [
    "student, student_copy2"
   ]
  },
  {
   "cell_type": "code",
   "execution_count": 345,
   "id": "f5188a3f-363e-47b4-87e4-557fd0e12049",
   "metadata": {},
   "outputs": [
    {
     "name": "stdout",
     "output_type": "stream",
     "text": [
      "{'name': 'Honey', 'subjects': ['Math', 'Science', 'English']}\n",
      "{'name': 'Honey', 'subjects': ['Math', 'Science']}\n"
     ]
    }
   ],
   "source": [
    " student['subjects'].append('English')\n",
    " print(student)\n",
    " print(student_copy2) "
   ]
  },
  {
   "cell_type": "code",
   "execution_count": 347,
   "id": "4796fb0e-e2e1-4d0a-8421-b38840058b9a",
   "metadata": {},
   "outputs": [
    {
     "name": "stdout",
     "output_type": "stream",
     "text": [
      "name\n",
      "subjects\n"
     ]
    }
   ],
   "source": [
    "  for keys in student.keys():\n",
    "    print(keys)"
   ]
  },
  {
   "cell_type": "code",
   "execution_count": 349,
   "id": "5d69a904-58a6-4d40-8226-393ff58db9d7",
   "metadata": {},
   "outputs": [
    {
     "name": "stdout",
     "output_type": "stream",
     "text": [
      "Honey\n",
      "['Math', 'Science', 'English']\n"
     ]
    }
   ],
   "source": [
    "for value in student.values():\n",
    "    print(value)"
   ]
  },
  {
   "cell_type": "code",
   "execution_count": 351,
   "id": "5f43a49b-252b-46a7-86bd-6befdf9907d6",
   "metadata": {},
   "outputs": [
    {
     "name": "stdout",
     "output_type": "stream",
     "text": [
      "name:Honey\n",
      "subjects:['Math', 'Science', 'English']\n"
     ]
    }
   ],
   "source": [
    "\n",
    " for key,value in student.items():\n",
    "    print(f\"{key}:{value}\")"
   ]
  },
  {
   "cell_type": "code",
   "execution_count": 355,
   "id": "6db8f870-186b-4a74-9401-63a2bd773ad6",
   "metadata": {},
   "outputs": [
    {
     "name": "stdout",
     "output_type": "stream",
     "text": [
      "{'student1': {'name': 'Sunny', 'age': 32}, 'student2': {'name': 'Peter', 'age': 35}}\n"
     ]
    }
   ],
   "source": [
    "students={\n",
    "    \"student1\":{\"name\":\"Sunny\",\"age\":32},\n",
    "    \"student2\":{\"name\":\"Peter\",\"age\":35}\n",
    " }\n",
    "\n",
    "print(students)"
   ]
  },
  {
   "cell_type": "code",
   "execution_count": 359,
   "id": "472d7e44-c0bf-44fa-994d-41f5523ce032",
   "metadata": {},
   "outputs": [
    {
     "name": "stdout",
     "output_type": "stream",
     "text": [
      "Peter\n",
      "35\n"
     ]
    }
   ],
   "source": [
    " print(students[\"student2\"][\"name\"])\n",
    " print(students[\"student2\"][\"age\"])"
   ]
  },
  {
   "cell_type": "code",
   "execution_count": 361,
   "id": "20b0d406-b6d6-4e93-8347-6ff93da35620",
   "metadata": {},
   "outputs": [
    {
     "data": {
      "text/plain": [
       "dict_items([('student1', {'name': 'Sunny', 'age': 32}), ('student2', {'name': 'Peter', 'age': 35})])"
      ]
     },
     "execution_count": 361,
     "metadata": {},
     "output_type": "execute_result"
    }
   ],
   "source": [
    "students.items()"
   ]
  },
  {
   "cell_type": "code",
   "execution_count": 363,
   "id": "8598312f-935b-48f8-9f72-7af50d35c7c6",
   "metadata": {},
   "outputs": [
    {
     "name": "stdout",
     "output_type": "stream",
     "text": [
      "the number is even\n"
     ]
    }
   ],
   "source": [
    "def eveodd(num):\n",
    "    \n",
    "    if num%2==0:\n",
    "        print(\"the number is even\")\n",
    "    else:\n",
    "        print(\"the number is odd\")\n",
    "eveodd(2)"
   ]
  },
  {
   "cell_type": "code",
   "execution_count": 59,
   "id": "54d16b04-9908-445d-87e7-3a2a43f7fbe4",
   "metadata": {},
   "outputs": [
    {
     "name": "stdout",
     "output_type": "stream",
     "text": [
      "Hello Shivam Welcome To the htl\n"
     ]
    }
   ],
   "source": [
    "def greet(name):\n",
    "    print(f\"Hello {name} Welcome To the htl\")\n",
    "    \n",
    "greet(\"Shivam\")"
   ]
  },
  {
   "cell_type": "code",
   "execution_count": 387,
   "id": "62c8e76e-01ea-4ed8-a308-44cbf904db53",
   "metadata": {},
   "outputs": [],
   "source": [
    "def print_numbers(*f):\n",
    "    for number in f:\n",
    "        print(number)"
   ]
  },
  {
   "cell_type": "code",
   "execution_count": 389,
   "id": "4720705e-237f-4fb4-88e9-441e47fdec2a",
   "metadata": {},
   "outputs": [
    {
     "name": "stdout",
     "output_type": "stream",
     "text": [
      "1\n",
      "2\n",
      "3\n",
      "king\n"
     ]
    }
   ],
   "source": [
    "print_numbers(1,2,3,\"king\")"
   ]
  },
  {
   "cell_type": "code",
   "execution_count": 393,
   "id": "0dfd964e-3ba4-48d4-95bf-cf4e0b683204",
   "metadata": {},
   "outputs": [],
   "source": [
    "def print_numbers(*args):\n",
    "    for i in args:\n",
    "        print(i)"
   ]
  },
  {
   "cell_type": "code",
   "execution_count": 395,
   "id": "75b6f04b-e1e1-42b2-be14-77c907613098",
   "metadata": {},
   "outputs": [
    {
     "name": "stdout",
     "output_type": "stream",
     "text": [
      "1\n",
      "2\n",
      "3\n",
      "King\n",
      "Divine\n"
     ]
    }
   ],
   "source": [
    "print_numbers(1,2,3,\"King\", \"Divine\")"
   ]
  },
  {
   "cell_type": "code",
   "execution_count": 398,
   "id": "0c4119b4-781e-455b-8006-f7a40cea945d",
   "metadata": {},
   "outputs": [],
   "source": [
    "def sum_of_numbers(*args):\n",
    "    sum = 0\n",
    "    for i in args:\n",
    "        sum = sum + i\n",
    "    return sum"
   ]
  },
  {
   "cell_type": "code",
   "execution_count": 400,
   "id": "a7a67d71-3a9d-4413-9e86-2db82962025e",
   "metadata": {},
   "outputs": [
    {
     "data": {
      "text/plain": [
       "45"
      ]
     },
     "execution_count": 400,
     "metadata": {},
     "output_type": "execute_result"
    }
   ],
   "source": [
    "sum_of_numbers(1,2,3,4,5,6,7,8,9,0)"
   ]
  },
  {
   "cell_type": "code",
   "execution_count": 61,
   "id": "8b90135f-e180-46d5-9fa2-d6e9f81c9cc5",
   "metadata": {},
   "outputs": [],
   "source": [
    "def print_details(**kwargs):\n",
    "    for key,value in kwargs.items():\n",
    "        print(f\"{key}:{value}\")"
   ]
  },
  {
   "cell_type": "code",
   "execution_count": 62,
   "id": "96f0f7e8-a3f5-4ac1-9480-4004126f16fe",
   "metadata": {},
   "outputs": [
    {
     "name": "stdout",
     "output_type": "stream",
     "text": [
      "name:Shivam\n",
      "age:21\n",
      "country:India\n"
     ]
    }
   ],
   "source": [
    "print_details(name=\"Shivam\",age=\"21\",country=\"India\")"
   ]
  },
  {
   "cell_type": "code",
   "execution_count": 63,
   "id": "626fad63-8de4-4783-8197-9c94e3ceabfe",
   "metadata": {},
   "outputs": [],
   "source": [
    "def print_details(*args,**kwargs):\n",
    "    for val in args:\n",
    "        print(f\" Positional arument :{val}\")\n",
    "    \n",
    "    for key,value in kwargs.items():\n",
    "        print(f\"{key}:{value}\")"
   ]
  },
  {
   "cell_type": "code",
   "execution_count": 65,
   "id": "c6180e5c-cf7b-4a54-8110-ae06e21caafa",
   "metadata": {},
   "outputs": [
    {
     "name": "stdout",
     "output_type": "stream",
     "text": [
      " Positional arument :1\n",
      " Positional arument :2\n",
      " Positional arument :3\n",
      " Positional arument :4\n",
      " Positional arument :Shivam\n",
      "name:Shivam\n",
      "age:21\n",
      "country:India\n"
     ]
    }
   ],
   "source": [
    " print_details(1,2,3,4,\"Shivam\",name=\"Shivam\",age=\"21\",country=\"India\")"
   ]
  },
  {
   "cell_type": "code",
   "execution_count": 413,
   "id": "cba62b3a-146c-4e90-8639-638e08a2621e",
   "metadata": {},
   "outputs": [
    {
     "data": {
      "text/plain": [
       "6"
      ]
     },
     "execution_count": 413,
     "metadata": {},
     "output_type": "execute_result"
    }
   ],
   "source": [
    "def multiply(a,b):\n",
    "    return a*b\n",
    "multiply(2,3)"
   ]
  },
  {
   "cell_type": "code",
   "execution_count": 417,
   "id": "2646b599-65e2-4c2d-8af3-500e334fa9f7",
   "metadata": {},
   "outputs": [
    {
     "name": "stdout",
     "output_type": "stream",
     "text": [
      "11\n"
     ]
    }
   ],
   "source": [
    " addition=lambda a,b:a+b\n",
    " type(addition)\n",
    " print(addition(5,6))"
   ]
  },
  {
   "cell_type": "code",
   "execution_count": 419,
   "id": "74b60931-e31a-4341-b7ab-b9c9c3fd5c47",
   "metadata": {},
   "outputs": [
    {
     "data": {
      "text/plain": [
       "True"
      ]
     },
     "execution_count": 419,
     "metadata": {},
     "output_type": "execute_result"
    }
   ],
   "source": [
    " even1=lambda num:num%2==0\n",
    " even1(12)"
   ]
  },
  {
   "cell_type": "code",
   "execution_count": 424,
   "id": "22d02af7-49ed-43df-a02b-70b5126893f4",
   "metadata": {},
   "outputs": [
    {
     "data": {
      "text/plain": [
       "39"
      ]
     },
     "execution_count": 424,
     "metadata": {},
     "output_type": "execute_result"
    }
   ],
   "source": [
    " def addition(x,y,z):\n",
    "    return x+y+z\n",
    " addition(12,13,14)"
   ]
  },
  {
   "cell_type": "code",
   "execution_count": 426,
   "id": "9d73c483-fb02-47c2-a34f-14c52dd6c55f",
   "metadata": {},
   "outputs": [
    {
     "data": {
      "text/plain": [
       "39"
      ]
     },
     "execution_count": 426,
     "metadata": {},
     "output_type": "execute_result"
    }
   ],
   "source": [
    "addition1=lambda x,y,z:x+y+z\n",
    "addition1(12,13,14)"
   ]
  },
  {
   "cell_type": "code",
   "execution_count": 428,
   "id": "43d9ac28-6524-48cf-9250-c7bbe1a959cf",
   "metadata": {},
   "outputs": [
    {
     "data": {
      "text/plain": [
       "[1, 4, 9, 16, 25, 36]"
      ]
     },
     "execution_count": 428,
     "metadata": {},
     "output_type": "execute_result"
    }
   ],
   "source": [
    "list(map(lambda x:x**2,numbers))"
   ]
  },
  {
   "cell_type": "code",
   "execution_count": 432,
   "id": "16c561a4-6267-47d7-a863-af3c5d7cb900",
   "metadata": {},
   "outputs": [
    {
     "data": {
      "text/plain": [
       "[1, 4, 9, 16, 25, 36, 49, 64]"
      ]
     },
     "execution_count": 432,
     "metadata": {},
     "output_type": "execute_result"
    }
   ],
   "source": [
    "numbers=[1,2,3,4,5,6,7,8]\n",
    "list(map(lambda x:x*x,numbers))"
   ]
  },
  {
   "cell_type": "code",
   "execution_count": 434,
   "id": "18b30919-a052-4fc9-b836-2a49a03216ba",
   "metadata": {},
   "outputs": [
    {
     "name": "stdout",
     "output_type": "stream",
     "text": [
      "[5, 7, 9]\n"
     ]
    }
   ],
   "source": [
    " numbers1=[1,2,3]\n",
    " numbers2=[4,5,6]\n",
    " added_numbers=list(map(lambda x,y:x+y,numbers1,numbers2))\n",
    " print(added_numbers)"
   ]
  },
  {
   "cell_type": "code",
   "execution_count": 436,
   "id": "e61e5747-50d1-47e0-adb0-97a8a753f9a4",
   "metadata": {},
   "outputs": [
    {
     "name": "stdout",
     "output_type": "stream",
     "text": [
      "[1, 2, 3, 4, 5]\n"
     ]
    }
   ],
   "source": [
    " str_numbers = ['1', '2', '3', '4', '5']\n",
    " int_numbers = list(map(int, str_numbers))\n",
    " print(int_numbers)"
   ]
  },
  {
   "cell_type": "code",
   "execution_count": 438,
   "id": "3a8e80cb-0da1-42fd-94f2-a678c4d65bb6",
   "metadata": {},
   "outputs": [
    {
     "name": "stdout",
     "output_type": "stream",
     "text": [
      "['APPLE', 'BANANA', 'CHERRY']\n"
     ]
    }
   ],
   "source": [
    " words=['apple','banana','cherry']\n",
    " upper_word=list(map(str.upper,words))\n",
    " print(upper_word)"
   ]
  },
  {
   "cell_type": "code",
   "execution_count": 66,
   "id": "94f8a98b-15bc-4f00-86f0-48089c8f1fe2",
   "metadata": {},
   "outputs": [
    {
     "data": {
      "text/plain": [
       "['Shivam', 'Jack']"
      ]
     },
     "execution_count": 66,
     "metadata": {},
     "output_type": "execute_result"
    }
   ],
   "source": [
    "def get_name(person):\n",
    "    return person['name']\n",
    "people=[\n",
    "    {'name':'Shivam','age':32},\n",
    "    {'name':'Jack','age':33}\n",
    "      ]\n",
    "list(map(get_name,people))"
   ]
  },
  {
   "cell_type": "code",
   "execution_count": 449,
   "id": "d7d51220-4dd0-49fa-8b88-ba132f2d3f82",
   "metadata": {},
   "outputs": [],
   "source": [
    "def even(num):\n",
    "    if num%2==0:\n",
    "        return True"
   ]
  },
  {
   "cell_type": "code",
   "execution_count": 453,
   "id": "a9bc7321-b0d2-4d5c-845e-d4ab3b8148bc",
   "metadata": {},
   "outputs": [
    {
     "data": {
      "text/plain": [
       "[2, 4, 6, 8, 10, 12]"
      ]
     },
     "execution_count": 453,
     "metadata": {},
     "output_type": "execute_result"
    }
   ],
   "source": [
    "lst=[1,2,3,4,5,6,7,8,9,10,11,12]\n",
    "list(filter(even,lst))"
   ]
  },
  {
   "cell_type": "code",
   "execution_count": 455,
   "id": "ca3ae14c-677a-47fa-bd86-f1f2e0d54493",
   "metadata": {},
   "outputs": [
    {
     "name": "stdout",
     "output_type": "stream",
     "text": [
      "[6, 7, 8, 9]\n"
     ]
    }
   ],
   "source": [
    " numbers=[1,2,3,4,5,6,7,8,9]\n",
    " greater_than_five=list(filter(lambda x:x>5,numbers))\n",
    " print(greater_than_five)"
   ]
  },
  {
   "cell_type": "code",
   "execution_count": 457,
   "id": "57787e94-d0fe-4c49-bd12-21111e14e431",
   "metadata": {},
   "outputs": [
    {
     "name": "stdout",
     "output_type": "stream",
     "text": [
      "[6, 8]\n"
     ]
    }
   ],
   "source": [
    " numbers=[1,2,3,4,5,6,7,8,9]\n",
    " even_and_greater_than_five=list(filter(lambda x:x>5 and x%2==0,numbers))\n",
    " print(even_and_greater_than_five)"
   ]
  },
  {
   "cell_type": "code",
   "execution_count": 459,
   "id": "f47d1781-457b-4297-8d29-16f67d78ab54",
   "metadata": {},
   "outputs": [
    {
     "data": {
      "text/plain": [
       "[{'name': 'Sunny', 'age': 32}, {'name': 'Jack', 'age': 33}]"
      ]
     },
     "execution_count": 459,
     "metadata": {},
     "output_type": "execute_result"
    }
   ],
   "source": [
    " people=[\n",
    "    {'name':'Sunny','age':32},\n",
    "    {'name':'Jack','age':33},\n",
    "    {'name':'John','age':25}\n",
    " ]\n",
    " def age_greater_than_25(person):\n",
    "    return person['age']>25\n",
    " list(filter(age_greater_than_25,people))"
   ]
  }
 ],
 "metadata": {
  "kernelspec": {
   "display_name": "Python 3 (ipykernel)",
   "language": "python",
   "name": "python3"
  },
  "language_info": {
   "codemirror_mode": {
    "name": "ipython",
    "version": 3
   },
   "file_extension": ".py",
   "mimetype": "text/x-python",
   "name": "python",
   "nbconvert_exporter": "python",
   "pygments_lexer": "ipython3",
   "version": "3.11.5"
  }
 },
 "nbformat": 4,
 "nbformat_minor": 5
}
